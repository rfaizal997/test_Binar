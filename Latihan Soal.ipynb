{
 "cells": [
  {
   "cell_type": "code",
   "execution_count": 6,
   "id": "aa3f439d",
   "metadata": {},
   "outputs": [],
   "source": [
    "# Soal 1\n",
    "\n",
    "a = ['a',123,True,212.43]"
   ]
  },
  {
   "cell_type": "code",
   "execution_count": 10,
   "id": "50a4816a",
   "metadata": {},
   "outputs": [
    {
     "name": "stdout",
     "output_type": "stream",
     "text": [
      "a   <class 'str'>\n",
      "123   <class 'int'>\n",
      "True   <class 'bool'>\n",
      "212.43   <class 'float'>\n"
     ]
    }
   ],
   "source": [
    "for i in range(len(a)):\n",
    "    print(a[i],\" \",type(a[i]))"
   ]
  },
  {
   "cell_type": "code",
   "execution_count": 13,
   "id": "fc1daab0",
   "metadata": {},
   "outputs": [
    {
     "name": "stdout",
     "output_type": "stream",
     "text": [
      "a <class 'str'>\n",
      "123 <class 'int'>\n",
      "True <class 'bool'>\n",
      "212.43 <class 'float'>\n"
     ]
    }
   ],
   "source": [
    "for i in a:\n",
    "    print(i,type(i))"
   ]
  },
  {
   "cell_type": "code",
   "execution_count": 18,
   "id": "e912d289",
   "metadata": {},
   "outputs": [
    {
     "name": "stdout",
     "output_type": "stream",
     "text": [
      "[9, 28, 21, 19, 1]\n"
     ]
    }
   ],
   "source": [
    "import random\n",
    "randomlist = []\n",
    "for i in range(0,5):\n",
    "    n = random.randint(1,30)\n",
    "    randomlist.append(n)\n",
    "print(randomlist)"
   ]
  },
  {
   "cell_type": "code",
   "execution_count": 24,
   "id": "c5705f95",
   "metadata": {},
   "outputs": [
    {
     "name": "stdout",
     "output_type": "stream",
     "text": [
      "['9 adalah bilangan Ganjil', '28adalah bilangan Genap', '21 adalah bilangan Ganjil', '19 adalah bilangan Ganjil', '1 adalah bilangan Ganjil']\n"
     ]
    }
   ],
   "source": [
    "soal_2 = [9, 28, 21, 19, 1]\n",
    "\n",
    "a = []\n",
    "\n",
    "for i in soal_2:\n",
    "    if i%2==0:\n",
    "        x = str(i)+'adalah bilangan Genap'\n",
    "    else:\n",
    "        x = str(i)+' adalah bilangan Ganjil'\n",
    "    a.append(x)\n",
    "    \n",
    "print(a)"
   ]
  },
  {
   "cell_type": "code",
   "execution_count": 31,
   "id": "36792e8b",
   "metadata": {},
   "outputs": [
    {
     "name": "stdout",
     "output_type": "stream",
     "text": [
      "Not Palindrome\n"
     ]
    }
   ],
   "source": [
    "# Soal 3 cek palindrom\n",
    "\n",
    "string1 = 'Sapi'\n",
    "string2 = string1[::-1]\n",
    "\n",
    "if string1 != string2:\n",
    "    print('Not Palindrome')\n",
    "else:\n",
    "    print('Palindrome')"
   ]
  },
  {
   "cell_type": "code",
   "execution_count": 39,
   "id": "6257e8ba",
   "metadata": {},
   "outputs": [
    {
     "data": {
      "text/plain": [
       "['asasas adalah Non Palindrome', 'Vfbebfv adalah Non Palindrome']"
      ]
     },
     "execution_count": 39,
     "metadata": {},
     "output_type": "execute_result"
    }
   ],
   "source": [
    "string3 = ['asasas','Vfbebfv']\n",
    "string4 = []\n",
    "for i in string3:\n",
    "    string5 = i[::-1]\n",
    "    if string3 == string5:\n",
    "          x = i+' adalah Palindrome'\n",
    "    else:\n",
    "          x = i+' adalah Non Palindrome'\n",
    "    string4.append(x)\n",
    "\n",
    "string4"
   ]
  }
 ],
 "metadata": {
  "kernelspec": {
   "display_name": "Python 3 (ipykernel)",
   "language": "python",
   "name": "python3"
  },
  "language_info": {
   "codemirror_mode": {
    "name": "ipython",
    "version": 3
   },
   "file_extension": ".py",
   "mimetype": "text/x-python",
   "name": "python",
   "nbconvert_exporter": "python",
   "pygments_lexer": "ipython3",
   "version": "3.9.18"
  }
 },
 "nbformat": 4,
 "nbformat_minor": 5
}
